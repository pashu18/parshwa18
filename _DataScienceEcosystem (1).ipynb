{
 "cells": [
  {
   "cell_type": "markdown",
   "id": "16b71c6f-b863-4e76-a51a-068b8fe564c3",
   "metadata": {},
   "source": [
    "# Data Science Tools and Ecosystem"
   ]
  },
  {
   "cell_type": "markdown",
   "id": "39e57717-b834-48ea-8763-f78f07994314",
   "metadata": {},
   "source": [
    "In this notebook, Data Science Tools and Ecosystem are summarized."
   ]
  },
  {
   "cell_type": "markdown",
   "id": "6bebdb18-aa6e-4089-aca8-d61cd06b353c",
   "metadata": {},
   "source": [
    "<b> Objectives: </b>\n",
    "* List popular languages for Data Science\n",
    "* Data Science Tools and Ecosystem\n",
    "* Commonly used Libraries for Data Science\n",
    "* Convert Minutes To Hours\n",
    "* List Data Science Tools"
   ]
  },
  {
   "cell_type": "markdown",
   "id": "20b14e96-b9d8-4736-be6c-a4980e486667",
   "metadata": {},
   "source": [
    "Some of the popular languages that Data Scientists use are:\n",
    "1. Python\n",
    "2. R\n",
    "3. JAVA\n",
    "4. SQL\n"
   ]
  },
  {
   "cell_type": "markdown",
   "id": "372aa1aa-9747-48cc-9bcb-0e216c32f5a3",
   "metadata": {},
   "source": [
    "Some of the commonly used libraries used by Data Scientists include:\n",
    "1. Numpy\n",
    "2. Scipy\n",
    "3. Pandas\n",
    "4. Keras\n"
   ]
  },
  {
   "cell_type": "markdown",
   "id": "88012888-9258-4ea7-b5f4-40467bec15ff",
   "metadata": {},
   "source": [
    "|Data Science Tools|\n",
    "|------------------|\n",
    "|Jupyter Notebook|\n",
    "|Py Charm|\n",
    "|Anaconda|"
   ]
  },
  {
   "cell_type": "markdown",
   "id": "bd5de28e-c7d9-466e-a5a0-b1590717aab7",
   "metadata": {
    "tags": []
   },
   "source": [
    "### Below are a few examples of evaluating arithmetic expressions in Python\n",
    "3+4 = 7\n",
    "\n",
    "4*3 = 12"
   ]
  },
  {
   "cell_type": "code",
   "execution_count": 16,
   "id": "0fdc8361-a633-443b-8b4d-fa39e2133ee4",
   "metadata": {
    "tags": []
   },
   "outputs": [
    {
     "data": {
      "text/plain": [
       "17"
      ]
     },
     "execution_count": 16,
     "metadata": {},
     "output_type": "execute_result"
    }
   ],
   "source": [
    " # This a simple arithmetic expression to mutiply then add integers\n",
    "(3*4)+5\n",
    "    "
   ]
  },
  {
   "cell_type": "code",
   "execution_count": 15,
   "id": "f2720042-f933-44d0-ab3b-8c6e65d8f88b",
   "metadata": {
    "tags": []
   },
   "outputs": [
    {
     "data": {
      "text/plain": [
       "3.3333333333333335"
      ]
     },
     "execution_count": 15,
     "metadata": {},
     "output_type": "execute_result"
    }
   ],
   "source": [
    "# This will convert 200 minutes to hours by diving by 60\n",
    "200/60"
   ]
  },
  {
   "cell_type": "markdown",
   "id": "95798dcd-5766-4196-8d7a-ab2b0a97bd9c",
   "metadata": {
    "tags": []
   },
   "source": [
    "## Author\n",
    "Parshwa"
   ]
  },
  {
   "cell_type": "code",
   "execution_count": null,
   "id": "be6c9465-5a6f-4947-9fdc-51421a3d54b9",
   "metadata": {},
   "outputs": [],
   "source": []
  }
 ],
 "metadata": {
  "kernelspec": {
   "display_name": "Python",
   "language": "python",
   "name": "conda-env-python-py"
  },
  "language_info": {
   "codemirror_mode": {
    "name": "ipython",
    "version": 3
   },
   "file_extension": ".py",
   "mimetype": "text/x-python",
   "name": "python",
   "nbconvert_exporter": "python",
   "pygments_lexer": "ipython3",
   "version": "3.7.12"
  }
 },
 "nbformat": 4,
 "nbformat_minor": 5
}
